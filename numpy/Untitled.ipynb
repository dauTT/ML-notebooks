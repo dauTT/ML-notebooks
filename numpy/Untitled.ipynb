{
 "cells": [
  {
   "cell_type": "code",
   "execution_count": null,
   "metadata": {},
   "outputs": [],
   "source": [
    "\n",
    "In[12]: # Create a length-10 integer array filled with zeros\n",
    "np.zeros(10, dtype=int)\n",
    "Out[12]: array([0, 0, 0, 0, 0, 0, 0, 0, 0, 0])\n",
    "In[13]: # Create a 3x5 floating-point array filled with 1s\n",
    "np.ones((3, 5), dtype=float)\n",
    "Out[13]: array([[ 1., 1., 1., 1., 1.],\n",
    "[ 1., 1., 1., 1., 1.],\n",
    "[ 1., 1., 1., 1., 1.]])\n",
    "In[14]: # Create a 3x5 array filled with 3.14\n",
    "np.full((3, 5), 3.14)\n",
    "Understanding Data Types in Python | 39\n",
    "Out[14]: array([[ 3.14, 3.14, 3.14, 3.14, 3.14],\n",
    "[ 3.14, 3.14, 3.14, 3.14, 3.14],\n",
    "[ 3.14, 3.14, 3.14, 3.14, 3.14]])\n",
    "In[15]: # Create an array filled with a linear sequence\n",
    "# Starting at 0, ending at 20, stepping by 2\n",
    "# (this is similar to the built-in range() function)\n",
    "np.arange(0, 20, 2)\n",
    "Out[15]: array([ 0, 2, 4, 6, 8, 10, 12, 14, 16, 18])\n",
    "In[16]: # Create an array of five values evenly spaced between 0 and 1\n",
    "np.linspace(0, 1, 5)\n",
    "Out[16]: array([ 0. , 0.25, 0.5 , 0.75, 1. ])\n",
    "In[17]: # Create a 3x3 array of uniformly distributed\n",
    "# random values between 0 and 1\n",
    "np.random.random((3, 3))\n",
    "Out[17]: array([[ 0.99844933, 0.52183819, 0.22421193],\n",
    "[ 0.08007488, 0.45429293, 0.20941444],\n",
    "[ 0.14360941, 0.96910973, 0.946117 ]])\n",
    "In[18]: # Create a 3x3 array of normally distributed random values\n",
    "# with mean 0 and standard deviation 1\n",
    "np.random.normal(0, 1, (3, 3))\n",
    "Out[18]: array([[ 1.51772646, 0.39614948, -0.10634696],\n",
    "[ 0.25671348, 0.00732722, 0.37783601],\n",
    "[ 0.68446945, 0.15926039, -0.70744073]])\n",
    "In[19]: # Create a 3x3 array of random integers in the interval [0, 10)\n",
    "np.random.randint(0, 10, (3, 3))\n",
    "Out[19]: array([[2, 3, 4],\n",
    "[5, 7, 8],\n",
    "[0, 5, 0]])\n",
    "In[20]: # Create a 3x3 identity matrix\n",
    "np.eye(3)\n",
    "Out[20]: array([[ 1., 0., 0.],\n",
    "[ 0., 1., 0.],\n",
    "[ 0., 0., 1.]])\n",
    "In[21]: # Create an uninitialized array of three integers\n",
    "# The values will be whatever happens to already exist at that\n",
    "# memory location\n",
    "np.empty(3)\n",
    "Out[21]: array([ 1., 1., 1.])\n"
   ]
  }
 ],
 "metadata": {
  "kernelspec": {
   "display_name": "Python 3",
   "language": "python",
   "name": "python3"
  },
  "language_info": {
   "codemirror_mode": {
    "name": "ipython",
    "version": 3
   },
   "file_extension": ".py",
   "mimetype": "text/x-python",
   "name": "python",
   "nbconvert_exporter": "python",
   "pygments_lexer": "ipython3",
   "version": "3.6.3"
  }
 },
 "nbformat": 4,
 "nbformat_minor": 2
}
